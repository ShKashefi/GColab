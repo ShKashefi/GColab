{
 "cells": [
  {
   "cell_type": "code",
   "execution_count": 6,
   "id": "940169ae",
   "metadata": {},
   "outputs": [
    {
     "name": "stdout",
     "output_type": "stream",
     "text": [
      "What is 2+2 : 4\n",
      "4\n"
     ]
    },
    {
     "data": {
      "text/plain": [
       "str"
      ]
     },
     "execution_count": 6,
     "metadata": {},
     "output_type": "execute_result"
    }
   ],
   "source": [
    "answerProb = input(\"What is 2+2 : \")\n",
    "print(answerProb)\n",
    "type(answerProb)"
   ]
  },
  {
   "cell_type": "code",
   "execution_count": 7,
   "id": "64202018",
   "metadata": {},
   "outputs": [
    {
     "data": {
      "text/plain": [
       "10"
      ]
     },
     "execution_count": 7,
     "metadata": {},
     "output_type": "execute_result"
    }
   ],
   "source": [
    "int(answerProb) + 6"
   ]
  },
  {
   "cell_type": "code",
   "execution_count": 8,
   "id": "20524013",
   "metadata": {},
   "outputs": [
    {
     "data": {
      "text/plain": [
       "range(0, 4, 2)"
      ]
     },
     "execution_count": 8,
     "metadata": {},
     "output_type": "execute_result"
    }
   ],
   "source": [
    "range(0,4, 2)"
   ]
  },
  {
   "cell_type": "code",
   "execution_count": 9,
   "id": "6254a966",
   "metadata": {},
   "outputs": [
    {
     "name": "stdout",
     "output_type": "stream",
     "text": [
      "0\n",
      "1\n",
      "2\n",
      "3\n",
      "4\n",
      "5\n",
      "6\n",
      "7\n",
      "8\n",
      "9\n"
     ]
    }
   ],
   "source": [
    "y = 0\n",
    "while y < 10:\n",
    "    print(y)\n",
    "    y+=1"
   ]
  },
  {
   "cell_type": "code",
   "execution_count": 10,
   "id": "1cb8fe2c",
   "metadata": {},
   "outputs": [
    {
     "name": "stdout",
     "output_type": "stream",
     "text": [
      "0\n",
      "1\n",
      "2\n",
      "3\n"
     ]
    }
   ],
   "source": [
    "for x in range(0, 4):\n",
    "    print(x)"
   ]
  },
  {
   "cell_type": "code",
   "execution_count": 11,
   "id": "60171d10",
   "metadata": {},
   "outputs": [
    {
     "name": "stdout",
     "output_type": "stream",
     "text": [
      "b\n",
      "a\n",
      "n\n",
      "a\n",
      "n\n",
      "a\n"
     ]
    }
   ],
   "source": [
    "x = 'banana'\n",
    "for y in x:\n",
    "    print(y) #imagine y is a letter"
   ]
  },
  {
   "cell_type": "code",
   "execution_count": 15,
   "id": "a6f34f0b",
   "metadata": {},
   "outputs": [
    {
     "name": "stdout",
     "output_type": "stream",
     "text": [
      "your answer is right\n"
     ]
    }
   ],
   "source": [
    "ans = 7\n",
    "if ans == 3:\n",
    "    print(\"your answer is 3, you are wrong!\")\n",
    "elif ans == 2:\n",
    "    print(\"answer is 2, you are wrong\")\n",
    "else:\n",
    "    print(\"your answer is right\")"
   ]
  },
  {
   "cell_type": "code",
   "execution_count": null,
   "id": "6b513a14",
   "metadata": {},
   "outputs": [],
   "source": []
  }
 ],
 "metadata": {
  "kernelspec": {
   "display_name": "Python 3 (ipykernel)",
   "language": "python",
   "name": "python3"
  },
  "language_info": {
   "codemirror_mode": {
    "name": "ipython",
    "version": 3
   },
   "file_extension": ".py",
   "mimetype": "text/x-python",
   "name": "python",
   "nbconvert_exporter": "python",
   "pygments_lexer": "ipython3",
   "version": "3.9.16"
  }
 },
 "nbformat": 4,
 "nbformat_minor": 5
}
