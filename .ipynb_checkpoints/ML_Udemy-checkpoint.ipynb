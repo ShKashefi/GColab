{
 "cells": [
  {
   "cell_type": "code",
   "execution_count": 6,
   "id": "940169ae",
   "metadata": {},
   "outputs": [
    {
     "name": "stdout",
     "output_type": "stream",
     "text": [
      "What is 2+2 : 4\n",
      "4\n"
     ]
    },
    {
     "data": {
      "text/plain": [
       "str"
      ]
     },
     "execution_count": 6,
     "metadata": {},
     "output_type": "execute_result"
    }
   ],
   "source": [
    "answerProb = input(\"What is 2+2 : \")\n",
    "print(answerProb)\n",
    "type(answerProb)"
   ]
  },
  {
   "cell_type": "code",
   "execution_count": 7,
   "id": "64202018",
   "metadata": {},
   "outputs": [
    {
     "data": {
      "text/plain": [
       "10"
      ]
     },
     "execution_count": 7,
     "metadata": {},
     "output_type": "execute_result"
    }
   ],
   "source": [
    "int(answerProb) + 6"
   ]
  },
  {
   "cell_type": "code",
   "execution_count": 8,
   "id": "20524013",
   "metadata": {},
   "outputs": [
    {
     "data": {
      "text/plain": [
       "range(0, 4, 2)"
      ]
     },
     "execution_count": 8,
     "metadata": {},
     "output_type": "execute_result"
    }
   ],
   "source": [
    "range(0,4, 2)"
   ]
  },
  {
   "cell_type": "code",
   "execution_count": 9,
   "id": "6254a966",
   "metadata": {},
   "outputs": [
    {
     "name": "stdout",
     "output_type": "stream",
     "text": [
      "0\n",
      "1\n",
      "2\n",
      "3\n",
      "4\n",
      "5\n",
      "6\n",
      "7\n",
      "8\n",
      "9\n"
     ]
    }
   ],
   "source": [
    "y = 0\n",
    "while y < 10:\n",
    "    print(y)\n",
    "    y+=1"
   ]
  },
  {
   "cell_type": "code",
   "execution_count": 10,
   "id": "1cb8fe2c",
   "metadata": {},
   "outputs": [
    {
     "name": "stdout",
     "output_type": "stream",
     "text": [
      "0\n",
      "1\n",
      "2\n",
      "3\n"
     ]
    }
   ],
   "source": [
    "for x in range(0, 4):\n",
    "    print(x)"
   ]
  },
  {
   "cell_type": "code",
   "execution_count": 11,
   "id": "60171d10",
   "metadata": {},
   "outputs": [
    {
     "name": "stdout",
     "output_type": "stream",
     "text": [
      "b\n",
      "a\n",
      "n\n",
      "a\n",
      "n\n",
      "a\n"
     ]
    }
   ],
   "source": [
    "x = 'banana'\n",
    "for y in x:\n",
    "    print(y) #imagine y is a letter"
   ]
  },
  {
   "cell_type": "code",
   "execution_count": 15,
   "id": "a6f34f0b",
   "metadata": {},
   "outputs": [
    {
     "name": "stdout",
     "output_type": "stream",
     "text": [
      "your answer is right\n"
     ]
    }
   ],
   "source": [
    "ans = 7\n",
    "if ans == 3:\n",
    "    print(\"your answer is 3, you are wrong!\")\n",
    "elif ans == 2:\n",
    "    print(\"answer is 2, you are wrong\")\n",
    "else:\n",
    "    print(\"your answer is right\")"
   ]
  },
  {
   "cell_type": "code",
   "execution_count": 2,
   "id": "6b513a14",
   "metadata": {},
   "outputs": [
    {
     "data": {
      "text/plain": [
       "[1, 2, 3, 4, 5, 6, 7]"
      ]
     },
     "execution_count": 2,
     "metadata": {},
     "output_type": "execute_result"
    }
   ],
   "source": [
    "list1 = [1,2,3,4,5,6,7]\n",
    "list1"
   ]
  },
  {
   "cell_type": "code",
   "execution_count": 3,
   "id": "f7c5ce04",
   "metadata": {},
   "outputs": [
    {
     "data": {
      "text/plain": [
       "(0, 1)"
      ]
     },
     "execution_count": 3,
     "metadata": {},
     "output_type": "execute_result"
    }
   ],
   "source": [
    "tuple1 = (0,1)\n",
    "tuple1"
   ]
  },
  {
   "cell_type": "code",
   "execution_count": 5,
   "id": "d19fa920",
   "metadata": {},
   "outputs": [
    {
     "name": "stdout",
     "output_type": "stream",
     "text": [
      "1\n"
     ]
    }
   ],
   "source": [
    "print(list1[0])"
   ]
  },
  {
   "cell_type": "code",
   "execution_count": 6,
   "id": "1ef51627",
   "metadata": {},
   "outputs": [
    {
     "name": "stdout",
     "output_type": "stream",
     "text": [
      "2\n"
     ]
    }
   ],
   "source": [
    "print(list1[1])"
   ]
  },
  {
   "cell_type": "code",
   "execution_count": 7,
   "id": "a0d3dd5a",
   "metadata": {},
   "outputs": [
    {
     "name": "stdout",
     "output_type": "stream",
     "text": [
      "[2, 3, 4, 5, 6, 7]\n"
     ]
    }
   ],
   "source": [
    "print(list1[1:])"
   ]
  },
  {
   "cell_type": "code",
   "execution_count": 8,
   "id": "c97c7bf0",
   "metadata": {},
   "outputs": [
    {
     "name": "stdout",
     "output_type": "stream",
     "text": [
      "[1, 2, 3]\n"
     ]
    }
   ],
   "source": [
    "print(list1[:3])"
   ]
  },
  {
   "cell_type": "code",
   "execution_count": 10,
   "id": "25109e04",
   "metadata": {},
   "outputs": [
    {
     "name": "stdout",
     "output_type": "stream",
     "text": [
      "[3, 4]\n"
     ]
    }
   ],
   "source": [
    "print(list1[2:4])"
   ]
  },
  {
   "cell_type": "code",
   "execution_count": 11,
   "id": "bfc93192",
   "metadata": {},
   "outputs": [
    {
     "name": "stdout",
     "output_type": "stream",
     "text": [
      "[2, 3, 4, 5]\n"
     ]
    }
   ],
   "source": [
    "print(list1[1:5])"
   ]
  },
  {
   "cell_type": "code",
   "execution_count": 12,
   "id": "0ad575cb",
   "metadata": {},
   "outputs": [],
   "source": [
    "list3 = [1,2,3,4,5,6,7]"
   ]
  },
  {
   "cell_type": "code",
   "execution_count": 13,
   "id": "505505fe",
   "metadata": {},
   "outputs": [
    {
     "data": {
      "text/plain": [
       "[1, 2, 3, 4, 5, 6, 7]"
      ]
     },
     "execution_count": 13,
     "metadata": {},
     "output_type": "execute_result"
    }
   ],
   "source": [
    "list_comp = [x for x in range(1,8)]\n",
    "list_comp"
   ]
  },
  {
   "cell_type": "code",
   "execution_count": 14,
   "id": "1501bf74",
   "metadata": {},
   "outputs": [
    {
     "data": {
      "text/plain": [
       "[1, 4, 9, 16, 25, 36, 49]"
      ]
     },
     "execution_count": 14,
     "metadata": {},
     "output_type": "execute_result"
    }
   ],
   "source": [
    "list_comp1 = [x**2 for x in range(1,8)]\n",
    "list_comp1"
   ]
  },
  {
   "cell_type": "code",
   "execution_count": 15,
   "id": "95193945",
   "metadata": {},
   "outputs": [
    {
     "data": {
      "text/plain": [
       "[1,\n",
       " 9,\n",
       " 25,\n",
       " 49,\n",
       " 81,\n",
       " 121,\n",
       " 169,\n",
       " 225,\n",
       " 289,\n",
       " 361,\n",
       " 441,\n",
       " 529,\n",
       " 625,\n",
       " 729,\n",
       " 841,\n",
       " 961,\n",
       " 1089,\n",
       " 1225,\n",
       " 1369,\n",
       " 1521,\n",
       " 1681,\n",
       " 1849,\n",
       " 2025,\n",
       " 2209,\n",
       " 2401,\n",
       " 2601,\n",
       " 2809,\n",
       " 3025,\n",
       " 3249,\n",
       " 3481,\n",
       " 3721,\n",
       " 3969,\n",
       " 4225,\n",
       " 4489,\n",
       " 4761,\n",
       " 5041,\n",
       " 5329,\n",
       " 5625,\n",
       " 5929,\n",
       " 6241,\n",
       " 6561,\n",
       " 6889,\n",
       " 7225,\n",
       " 7569,\n",
       " 7921,\n",
       " 8281,\n",
       " 8649,\n",
       " 9025,\n",
       " 9409,\n",
       " 9801]"
      ]
     },
     "execution_count": 15,
     "metadata": {},
     "output_type": "execute_result"
    }
   ],
   "source": [
    "list_comp_if = [x**2 for x in range(1,101) if x%2 == 1]\n",
    "list_comp_if"
   ]
  },
  {
   "cell_type": "code",
   "execution_count": 16,
   "id": "4a8029aa",
   "metadata": {},
   "outputs": [
    {
     "name": "stdout",
     "output_type": "stream",
     "text": [
      "hola\n"
     ]
    }
   ],
   "source": [
    "def func (x):\n",
    "    print(x)\n",
    "\n",
    "func('hola')"
   ]
  },
  {
   "cell_type": "code",
   "execution_count": 17,
   "id": "b76eb49c",
   "metadata": {},
   "outputs": [
    {
     "name": "stdout",
     "output_type": "stream",
     "text": [
      "144\n"
     ]
    }
   ],
   "source": [
    "def fruitful(y):\n",
    "    return y**2\n",
    "\n",
    "result = fruitful(12)\n",
    "print(result)"
   ]
  },
  {
   "cell_type": "code",
   "execution_count": 18,
   "id": "4acae7bc",
   "metadata": {},
   "outputs": [
    {
     "data": {
      "text/plain": [
       "390"
      ]
     },
     "execution_count": 18,
     "metadata": {},
     "output_type": "execute_result"
    }
   ],
   "source": [
    "lambda_example = lambda x: x+200\n",
    "lambda_example(190)"
   ]
  },
  {
   "cell_type": "code",
   "execution_count": 19,
   "id": "5ebb65fc",
   "metadata": {},
   "outputs": [
    {
     "data": {
      "text/plain": [
       "1073741824"
      ]
     },
     "execution_count": 19,
     "metadata": {},
     "output_type": "execute_result"
    }
   ],
   "source": [
    "lamb_ex_2 = lambda x: x**30\n",
    "lamb_ex_2(2)"
   ]
  }
 ],
 "metadata": {
  "kernelspec": {
   "display_name": "Python 3 (ipykernel)",
   "language": "python",
   "name": "python3"
  },
  "language_info": {
   "codemirror_mode": {
    "name": "ipython",
    "version": 3
   },
   "file_extension": ".py",
   "mimetype": "text/x-python",
   "name": "python",
   "nbconvert_exporter": "python",
   "pygments_lexer": "ipython3",
   "version": "3.9.16"
  }
 },
 "nbformat": 4,
 "nbformat_minor": 5
}
